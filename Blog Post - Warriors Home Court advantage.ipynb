{
 "cells": [
  {
   "cell_type": "code",
   "execution_count": 192,
   "id": "8e741900",
   "metadata": {},
   "outputs": [],
   "source": [
    "import numpy as np\n",
    "import pandas as pd\n",
    "import scipy.stats\n",
    "import matplotlib.pyplot as plt\n",
    "\n",
    "# Based on example from here: https://statsthinking21.github.io/statsthinking21-python/08-HypothesisTesting.html"
   ]
  },
  {
   "cell_type": "markdown",
   "id": "3efa2a6d",
   "metadata": {},
   "source": [
    "# Theoretical "
   ]
  },
  {
   "cell_type": "code",
   "execution_count": 206,
   "id": "71c32b48",
   "metadata": {},
   "outputs": [
    {
     "name": "stdout",
     "output_type": "stream",
     "text": [
      "0.0035986900329589844\n"
     ]
    }
   ],
   "source": [
    "# Coin toss outcomes follow a binomial distribution\n",
    "# Calculate the probability of getting less than 17 heads out of 21 coin tosses\n",
    "p_lt_17 = scipy.stats.binom.cdf(k=16, n=21, p=0.5)\n",
    "# Subtracting this number from 1 will give the probability of getting 17 or more heads out of 21 coin tosses\n",
    "p_ge_17 = 1 - p_lt_17\n",
    "print(p_ge_17)"
   ]
  },
  {
   "cell_type": "code",
   "execution_count": 196,
   "id": "43ca1cff",
   "metadata": {},
   "outputs": [
    {
     "data": {
      "text/plain": [
       "3.5986900329589844"
      ]
     },
     "execution_count": 196,
     "metadata": {},
     "output_type": "execute_result"
    }
   ],
   "source": [
    "# if we toss 21 coins 1,000 times how many occurances of 17 or more heads should we expect?\n",
    "p_ge_17*1000"
   ]
  },
  {
   "cell_type": "markdown",
   "id": "6df3af4f",
   "metadata": {},
   "source": [
    "# Try it with a simulation"
   ]
  },
  {
   "cell_type": "code",
   "execution_count": 197,
   "id": "17068db7",
   "metadata": {},
   "outputs": [],
   "source": [
    "def toss_coins_and_count_heads(num_coins=21, p_heads=0.5):\n",
    "    \"\"\"\n",
    "    flip a coin num_coins times and return number of heads\n",
    "    \"\"\"\n",
    "\n",
    "    # pull random numbers between 0 and 1. if number > 0.5 then call it True (heads)\n",
    "    flips = np.random.rand(num_coins) > (1 - p_heads)\n",
    "    return(np.sum(flips))  # return the number of trues (heads)\n"
   ]
  },
  {
   "cell_type": "code",
   "execution_count": 199,
   "id": "a0948578",
   "metadata": {},
   "outputs": [],
   "source": [
    "# Run the simulation\n",
    "num_runs = 1000\n",
    "\n",
    "flip_results_df = pd.DataFrame({'n_heads': np.zeros(num_runs)})\n",
    "\n",
    "for run in range(num_runs):\n",
    "    flip_results_df.loc[run, 'n_heads'] = toss_coins_and_count_heads()"
   ]
  },
  {
   "cell_type": "code",
   "execution_count": 200,
   "id": "a70b0083",
   "metadata": {},
   "outputs": [
    {
     "data": {
      "image/png": "[encoded data removed]",
      "text/plain": [
       "<Figure size 800x400 with 1 Axes>"
      ]
     },
     "metadata": {},
     "output_type": "display_data"
    }
   ],
   "source": [
    "# see the outcomes\n",
    "with plt.style.context('seaborn-white', after_reset=True):\n",
    "    plt.figure(figsize=(8, 4))\n",
    "    plt.hist(flip_results_df.n_heads, bins=[*range(1, 22, 1)], density=False, color='blue')\n",
    "    plt.xlabel(\"n heads\")\n",
    "    plt.title(\"blah\")\n",
    "    plt.grid(False)\n",
    "    plt.show()"
   ]
  },
  {
   "cell_type": "code",
   "execution_count": 201,
   "id": "dea48328",
   "metadata": {
    "scrolled": true
   },
   "outputs": [
    {
     "data": {
      "text/html": [
       "<div>\n",
       "<style scoped>\n",
       "    .dataframe tbody tr th:only-of-type {\n",
       "        vertical-align: middle;\n",
       "    }\n",
       "\n",
       "    .dataframe tbody tr th {\n",
       "        vertical-align: top;\n",
       "    }\n",
       "\n",
       "    .dataframe thead th {\n",
       "        text-align: right;\n",
       "    }\n",
       "</style>\n",
       "<table border=\"1\" class=\"dataframe\">\n",
       "  <thead>\n",
       "    <tr style=\"text-align: right;\">\n",
       "      <th></th>\n",
       "      <th>n_heads</th>\n",
       "    </tr>\n",
       "  </thead>\n",
       "  <tbody>\n",
       "    <tr>\n",
       "      <th>784</th>\n",
       "      <td>17.0</td>\n",
       "    </tr>\n",
       "    <tr>\n",
       "      <th>815</th>\n",
       "      <td>17.0</td>\n",
       "    </tr>\n",
       "  </tbody>\n",
       "</table>\n",
       "</div>"
      ],
      "text/plain": [
       "     n_heads\n",
       "784     17.0\n",
       "815     17.0"
      ]
     },
     "execution_count": 201,
     "metadata": {},
     "output_type": "execute_result"
    }
   ],
   "source": [
    "# how many runs got 17 or more heads?\n",
    "flip_results_df.loc[flip_results_df[\"n_heads\"]>=17]"
   ]
  },
  {
   "cell_type": "code",
   "execution_count": 202,
   "id": "428cfc73",
   "metadata": {},
   "outputs": [
    {
     "data": {
      "text/plain": [
       "0.20000000000000284"
      ]
     },
     "execution_count": 202,
     "metadata": {},
     "output_type": "execute_result"
    }
   ],
   "source": [
    "# what percent of runs had strictly less than 17 heads\n",
    "strictly_lt_17 = scipy.stats.percentileofscore(flip_results_df, 17, kind='strict') \n",
    "\n",
    "# what percent of runs had 17 or more heads\n",
    "pvalue = 100 - strictly_lt_17\n",
    "pvalue"
   ]
  },
  {
   "cell_type": "code",
   "execution_count": null,
   "id": "8342b985",
   "metadata": {},
   "outputs": [],
   "source": []
  }
 ],
 "metadata": {
  "kernelspec": {
   "display_name": "Python 3 (ipykernel)",
   "language": "python",
   "name": "python3"
  },
  "language_info": {
   "codemirror_mode": {
    "name": "ipython",
    "version": 3
   },
   "file_extension": ".py",
   "mimetype": "text/x-python",
   "name": "python",
   "nbconvert_exporter": "python",
   "pygments_lexer": "ipython3",
   "version": "3.9.12"
  }
 },
 "nbformat": 4,
 "nbformat_minor": 5
}
